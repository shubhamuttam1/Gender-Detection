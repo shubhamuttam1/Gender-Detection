{
 "cells": [
  {
   "cell_type": "markdown",
   "metadata": {},
   "source": [
    "# References\n",
    "\n",
    "Site used to extract the names: https://babynames.extraprepare.com/\n",
    "\n",
    "Code to extract names from the site: https://github.com/memr5/Machine-Learning-Portfolio/blob/master/Deep%20Learning/Indian%20Baby%20Names%20Generator/Scraper.py"
   ]
  },
  {
   "cell_type": "code",
   "execution_count": 1,
   "metadata": {},
   "outputs": [],
   "source": [
    "import requests\n",
    "from bs4 import BeautifulSoup\n",
    "import pandas as pd\n",
    "import string\n",
    "\n",
    "# Url of the website\n",
    "base_url = 'https://babynames.extraprepare.com/'\n",
    "\n",
    "data_dict = {\"Name\":[],\"Gender\":[]} # 0 for male, 1 for female"
   ]
  },
  {
   "cell_type": "markdown",
   "metadata": {},
   "source": [
    "# Scrapping Male Names"
   ]
  },
  {
   "cell_type": "code",
   "execution_count": 1,
   "metadata": {},
   "outputs": [
    {
     "name": "stdout",
     "output_type": "stream",
     "text": [
      "Scrapping Indian boys Names\n"
     ]
    },
    {
     "name": "stderr",
     "output_type": "stream",
     "text": [
      "Some characters could not be decoded, and were replaced with REPLACEMENT CHARACTER.\n",
      "Some characters could not be decoded, and were replaced with REPLACEMENT CHARACTER.\n"
     ]
    }
   ],
   "source": [
    "\n",
    "for gender in ['boy']:\n",
    "    print(f\"Scrapping Indian {gender}s Names\")\n",
    "\n",
    "    for initial in string.ascii_lowercase:\n",
    "        # To make a request to the website\n",
    "        url = base_url+f\"{gender}-{initial}.php\"\n",
    "        request = requests.get(url)\n",
    "\n",
    "        # To create a BeautifulSoup object with content(Source code) of the website\n",
    "        soup = BeautifulSoup(request.content,'html.parser')\n",
    "\n",
    "        for names in soup.findAll('h3'):\n",
    "            if \";\" in names.text:\n",
    "                for name in names.text.split(\"; \"):\n",
    "                    data_dict[\"Name\"].append(name)\n",
    "                    data_dict[\"Gender\"].append(0)\n",
    "            else:\n",
    "                data_dict[\"Name\"].append(names.text)\n",
    "                data_dict[\"Gender\"].append(0)\n",
    "\n",
    "        for i in soup.findAll('td',attrs={'align':'center'}):\n",
    "            if \"Page\" in i.text:\n",
    "                for page in range(1,len(i.text[6:].split(\"\\xa0\"))-1):\n",
    "                    request = requests.get(url+f\"?page={page}\")\n",
    "\n",
    "                    # To create a BeautifulSoup object with content(Source code) of the website\n",
    "                    soup = BeautifulSoup(request.content,'html.parser')\n",
    "\n",
    "                    for names in soup.findAll('h3'):\n",
    "                        if \";\" in names.text:\n",
    "                            for name in names.text.split(\"; \"):\n",
    "                                data_dict[\"Name\"].append(names.text)\n",
    "                                data_dict[\"Gender\"].append(0)\n",
    "                        else:\n",
    "                            data_dict[\"Name\"].append(names.text)\n",
    "                            data_dict[\"Gender\"].append(0)"
   ]
  },
  {
   "cell_type": "code",
   "execution_count": 2,
   "metadata": {},
   "outputs": [
    {
     "name": "stdout",
     "output_type": "stream",
     "text": [
      "Number of male names in the list: 30167\n"
     ]
    }
   ],
   "source": [
    "male = len(data_dict[\"Name\"])\n",
    "print(\"Number of male names in the list:\",len(data_dict[\"Name\"]))"
   ]
  },
  {
   "cell_type": "markdown",
   "metadata": {},
   "source": [
    "# Scrapping Female Names"
   ]
  },
  {
   "cell_type": "code",
   "execution_count": 3,
   "metadata": {},
   "outputs": [
    {
     "name": "stdout",
     "output_type": "stream",
     "text": [
      "Scrapping Indian girls Names\n"
     ]
    }
   ],
   "source": [
    "for gender in ['girl']:\n",
    "    print(f\"Scrapping Indian {gender}s Names\")\n",
    "\n",
    "    for initial in string.ascii_lowercase:\n",
    "        # To make a request to the website\n",
    "        url = base_url+f\"{gender}-{initial}.php\"\n",
    "        request = requests.get(url)\n",
    "\n",
    "        # To create a BeautifulSoup object with content(Source code) of the website\n",
    "        soup = BeautifulSoup(request.content,'html.parser')\n",
    "\n",
    "        for names in soup.findAll('h3'):\n",
    "            if \";\" in names.text:\n",
    "                for name in names.text.split(\"; \"):\n",
    "                    data_dict[\"Name\"].append(name)\n",
    "                    data_dict[\"Gender\"].append(1)\n",
    "            else:\n",
    "                data_dict[\"Name\"].append(names.text)\n",
    "                data_dict[\"Gender\"].append(1)\n",
    "\n",
    "        for i in soup.findAll('td',attrs={'align':'center'}):\n",
    "            if \"Page\" in i.text:\n",
    "                for page in range(1,len(i.text[6:].split(\"\\xa0\"))-1):\n",
    "                    request = requests.get(url+f\"?page={page}\")\n",
    "\n",
    "                    # To create a BeautifulSoup object with content(Source code) of the website\n",
    "                    soup = BeautifulSoup(request.content,'html.parser')\n",
    "\n",
    "                    for names in soup.findAll('h3'):\n",
    "                        if \";\" in names.text:\n",
    "                            for name in names.text.split(\"; \"):\n",
    "                                data_dict[\"Name\"].append(names.text)\n",
    "                                data_dict[\"Gender\"].append(1)\n",
    "                        else:\n",
    "                            data_dict[\"Name\"].append(names.text)\n",
    "                            data_dict[\"Gender\"].append(1)"
   ]
  },
  {
   "cell_type": "code",
   "execution_count": 4,
   "metadata": {},
   "outputs": [
    {
     "name": "stdout",
     "output_type": "stream",
     "text": [
      "Number of female names in the list: 25494\n"
     ]
    }
   ],
   "source": [
    "print(\"Number of female names in the list:\",len(data_dict[\"Name\"]) - male)"
   ]
  },
  {
   "cell_type": "code",
   "execution_count": 5,
   "metadata": {},
   "outputs": [],
   "source": [
    "data_df = pd.DataFrame.from_dict(data_dict)"
   ]
  },
  {
   "cell_type": "markdown",
   "metadata": {},
   "source": [
    "# Generated dataframe"
   ]
  },
  {
   "cell_type": "code",
   "execution_count": 6,
   "metadata": {},
   "outputs": [
    {
     "data": {
      "text/html": [
       "<div>\n",
       "<style scoped>\n",
       "    .dataframe tbody tr th:only-of-type {\n",
       "        vertical-align: middle;\n",
       "    }\n",
       "\n",
       "    .dataframe tbody tr th {\n",
       "        vertical-align: top;\n",
       "    }\n",
       "\n",
       "    .dataframe thead th {\n",
       "        text-align: right;\n",
       "    }\n",
       "</style>\n",
       "<table border=\"1\" class=\"dataframe\">\n",
       "  <thead>\n",
       "    <tr style=\"text-align: right;\">\n",
       "      <th></th>\n",
       "      <th>Name</th>\n",
       "      <th>Gender</th>\n",
       "    </tr>\n",
       "  </thead>\n",
       "  <tbody>\n",
       "    <tr>\n",
       "      <td>0</td>\n",
       "      <td>Aaban</td>\n",
       "      <td>0</td>\n",
       "    </tr>\n",
       "    <tr>\n",
       "      <td>1</td>\n",
       "      <td>Aabharan</td>\n",
       "      <td>0</td>\n",
       "    </tr>\n",
       "    <tr>\n",
       "      <td>2</td>\n",
       "      <td>Aabhas</td>\n",
       "      <td>0</td>\n",
       "    </tr>\n",
       "    <tr>\n",
       "      <td>3</td>\n",
       "      <td>Aabhat</td>\n",
       "      <td>0</td>\n",
       "    </tr>\n",
       "    <tr>\n",
       "      <td>4</td>\n",
       "      <td>Aabheer</td>\n",
       "      <td>0</td>\n",
       "    </tr>\n",
       "    <tr>\n",
       "      <td>...</td>\n",
       "      <td>...</td>\n",
       "      <td>...</td>\n",
       "    </tr>\n",
       "    <tr>\n",
       "      <td>55656</td>\n",
       "      <td>Zumathy</td>\n",
       "      <td>1</td>\n",
       "    </tr>\n",
       "    <tr>\n",
       "      <td>55657</td>\n",
       "      <td>Zurika</td>\n",
       "      <td>1</td>\n",
       "    </tr>\n",
       "    <tr>\n",
       "      <td>55658</td>\n",
       "      <td>Zuruthi</td>\n",
       "      <td>1</td>\n",
       "    </tr>\n",
       "    <tr>\n",
       "      <td>55659</td>\n",
       "      <td>Zuruthika</td>\n",
       "      <td>1</td>\n",
       "    </tr>\n",
       "    <tr>\n",
       "      <td>55660</td>\n",
       "      <td>Zuvaka</td>\n",
       "      <td>1</td>\n",
       "    </tr>\n",
       "  </tbody>\n",
       "</table>\n",
       "<p>55661 rows × 2 columns</p>\n",
       "</div>"
      ],
      "text/plain": [
       "            Name  Gender\n",
       "0          Aaban       0\n",
       "1       Aabharan       0\n",
       "2         Aabhas       0\n",
       "3         Aabhat       0\n",
       "4        Aabheer       0\n",
       "...          ...     ...\n",
       "55656    Zumathy       1\n",
       "55657     Zurika       1\n",
       "55658    Zuruthi       1\n",
       "55659  Zuruthika       1\n",
       "55660     Zuvaka       1\n",
       "\n",
       "[55661 rows x 2 columns]"
      ]
     },
     "execution_count": 6,
     "metadata": {},
     "output_type": "execute_result"
    }
   ],
   "source": [
    "data_df"
   ]
  },
  {
   "cell_type": "code",
   "execution_count": 7,
   "metadata": {},
   "outputs": [],
   "source": [
    "a = data_df[\"Name\"].value_counts()"
   ]
  },
  {
   "cell_type": "code",
   "execution_count": 8,
   "metadata": {},
   "outputs": [
    {
     "data": {
      "text/plain": [
       "Airaawat; Airawat; Eirawat; Erawat; Irawat      5\n",
       "Brajraaj; Brajraj; Brijraaj; Brijraj            4\n",
       "Brajamohan; Brajmohan; Brijamohan; Brijmohan    4\n",
       "Jasbir                                          3\n",
       "Dharmpal                                        3\n",
       "                                               ..\n",
       "Vytheeswaran                                    1\n",
       "Ratanjali                                       1\n",
       "Basavaraj                                       1\n",
       "Warshaya                                        1\n",
       "Tharmila                                        1\n",
       "Name: Name, Length: 54995, dtype: int64"
      ]
     },
     "execution_count": 8,
     "metadata": {},
     "output_type": "execute_result"
    }
   ],
   "source": [
    "a"
   ]
  },
  {
   "cell_type": "markdown",
   "metadata": {},
   "source": [
    "### We can observe that there are still some entries with ';' in it. Now we will again run split based on ';'"
   ]
  },
  {
   "cell_type": "code",
   "execution_count": 9,
   "metadata": {},
   "outputs": [
    {
     "data": {
      "text/plain": [
       "0            Aaban\n",
       "1         Aabharan\n",
       "2           Aabhas\n",
       "3           Aabhat\n",
       "4          Aabheer\n",
       "           ...    \n",
       "55656      Zumathy\n",
       "55657       Zurika\n",
       "55658      Zuruthi\n",
       "55659    Zuruthika\n",
       "55660       Zuvaka\n",
       "Name: Name, Length: 55661, dtype: object"
      ]
     },
     "execution_count": 9,
     "metadata": {},
     "output_type": "execute_result"
    }
   ],
   "source": [
    "data_df[\"Name\"]"
   ]
  },
  {
   "cell_type": "code",
   "execution_count": 10,
   "metadata": {},
   "outputs": [],
   "source": [
    "new_dict = {\"Name\":[],\"Gender\":[]} # 0 for male, 1 for female"
   ]
  },
  {
   "cell_type": "code",
   "execution_count": 11,
   "metadata": {},
   "outputs": [],
   "source": [
    "for i in range(len(data_df)):\n",
    "    if \";\" in data_dict[\"Name\"][i]:\n",
    "        for name in data_dict[\"Name\"][i].split(\"; \"):\n",
    "            if(data_dict[\"Name\"][i].isalpha()):\n",
    "                new_dict[\"Name\"].append(name)\n",
    "                new_dict[\"Gender\"].append(data_dict[\"Gender\"][i])\n",
    "    elif(data_dict[\"Name\"][i].isalpha()): # also removing any entries with any special characters in it\n",
    "        new_dict[\"Name\"].append(data_dict[\"Name\"][i])\n",
    "        new_dict[\"Gender\"].append(data_dict[\"Gender\"][i])"
   ]
  },
  {
   "cell_type": "code",
   "execution_count": 12,
   "metadata": {},
   "outputs": [],
   "source": [
    "new_df = pd.DataFrame.from_dict(new_dict)"
   ]
  },
  {
   "cell_type": "code",
   "execution_count": 13,
   "metadata": {},
   "outputs": [
    {
     "data": {
      "text/plain": [
       "Gyan            3\n",
       "Rajbir          3\n",
       "Jasbir          3\n",
       "Devi            3\n",
       "Jasveer         3\n",
       "               ..\n",
       "Vadhanasri      1\n",
       "Kanthamani      1\n",
       "Haashni         1\n",
       "Ambaajeeraav    1\n",
       "Tharmila        1\n",
       "Name: Name, Length: 53925, dtype: int64"
      ]
     },
     "execution_count": 13,
     "metadata": {},
     "output_type": "execute_result"
    }
   ],
   "source": [
    "new_df[\"Name\"].value_counts()"
   ]
  },
  {
   "cell_type": "markdown",
   "metadata": {},
   "source": [
    "### We have some repeated entries. We only want unique names in our dataset. Therefore we will remove all the duplicate entries."
   ]
  },
  {
   "cell_type": "code",
   "execution_count": 14,
   "metadata": {},
   "outputs": [],
   "source": [
    "new_df = new_df.drop_duplicates()"
   ]
  },
  {
   "cell_type": "code",
   "execution_count": 15,
   "metadata": {},
   "outputs": [
    {
     "data": {
      "text/plain": [
       "Bhupinder      2\n",
       "Harjeet        2\n",
       "Champabati     2\n",
       "Giaan          2\n",
       "Gemini         2\n",
       "              ..\n",
       "Chintana       1\n",
       "Vennela        1\n",
       "Lavakushan     1\n",
       "Kaashinaath    1\n",
       "Tharmila       1\n",
       "Name: Name, Length: 53925, dtype: int64"
      ]
     },
     "execution_count": 15,
     "metadata": {},
     "output_type": "execute_result"
    }
   ],
   "source": [
    "new_df[\"Name\"].value_counts()"
   ]
  },
  {
   "cell_type": "markdown",
   "metadata": {},
   "source": [
    "### Now the only duplicates name are left which are classified both as male and female"
   ]
  },
  {
   "cell_type": "markdown",
   "metadata": {},
   "source": [
    "## Exporting data to a csv file"
   ]
  },
  {
   "cell_type": "code",
   "execution_count": 20,
   "metadata": {},
   "outputs": [],
   "source": [
    "new_df.to_csv('Gender_Data.csv', index=False)"
   ]
  },
  {
   "cell_type": "code",
   "execution_count": null,
   "metadata": {},
   "outputs": [],
   "source": []
  }
 ],
 "metadata": {
  "kernelspec": {
   "display_name": "Python 3",
   "language": "python",
   "name": "python3"
  },
  "language_info": {
   "codemirror_mode": {
    "name": "ipython",
    "version": 3
   },
   "file_extension": ".py",
   "mimetype": "text/x-python",
   "name": "python",
   "nbconvert_exporter": "python",
   "pygments_lexer": "ipython3",
   "version": "3.7.4"
  }
 },
 "nbformat": 4,
 "nbformat_minor": 2
}
