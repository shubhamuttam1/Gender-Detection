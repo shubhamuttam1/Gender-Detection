{
 "cells": [
  {
   "cell_type": "code",
   "execution_count": 1,
   "metadata": {},
   "outputs": [],
   "source": [
    "import pandas as pd\n",
    "import string\n",
    "import matplotlib.pyplot as plt\n",
    "import numpy as np\n",
    "import time\n",
    "from sklearn.metrics import classification_report\n",
    "from sklearn.preprocessing import StandardScaler\n",
    "from sklearn.ensemble import GradientBoostingClassifier\n",
    "from sklearn.metrics import confusion_matrix\n",
    "from sklearn.ensemble import RandomForestClassifier\n",
    "import pickle"
   ]
  },
  {
   "cell_type": "markdown",
   "metadata": {},
   "source": [
    "### Loading the data in the form of DataFrame"
   ]
  },
  {
   "cell_type": "code",
   "execution_count": 2,
   "metadata": {},
   "outputs": [],
   "source": [
    "Data = pd.read_csv(\"Gender_Data.csv\")"
   ]
  },
  {
   "cell_type": "code",
   "execution_count": 3,
   "metadata": {},
   "outputs": [
    {
     "data": {
      "text/html": [
       "<div>\n",
       "<style scoped>\n",
       "    .dataframe tbody tr th:only-of-type {\n",
       "        vertical-align: middle;\n",
       "    }\n",
       "\n",
       "    .dataframe tbody tr th {\n",
       "        vertical-align: top;\n",
       "    }\n",
       "\n",
       "    .dataframe thead th {\n",
       "        text-align: right;\n",
       "    }\n",
       "</style>\n",
       "<table border=\"1\" class=\"dataframe\">\n",
       "  <thead>\n",
       "    <tr style=\"text-align: right;\">\n",
       "      <th></th>\n",
       "      <th>Name</th>\n",
       "      <th>Gender</th>\n",
       "    </tr>\n",
       "  </thead>\n",
       "  <tbody>\n",
       "    <tr>\n",
       "      <th>0</th>\n",
       "      <td>Aaban</td>\n",
       "      <td>0</td>\n",
       "    </tr>\n",
       "    <tr>\n",
       "      <th>1</th>\n",
       "      <td>Aabharan</td>\n",
       "      <td>0</td>\n",
       "    </tr>\n",
       "    <tr>\n",
       "      <th>2</th>\n",
       "      <td>Aabhas</td>\n",
       "      <td>0</td>\n",
       "    </tr>\n",
       "    <tr>\n",
       "      <th>3</th>\n",
       "      <td>Aabhat</td>\n",
       "      <td>0</td>\n",
       "    </tr>\n",
       "    <tr>\n",
       "      <th>4</th>\n",
       "      <td>Aabheer</td>\n",
       "      <td>0</td>\n",
       "    </tr>\n",
       "    <tr>\n",
       "      <th>...</th>\n",
       "      <td>...</td>\n",
       "      <td>...</td>\n",
       "    </tr>\n",
       "    <tr>\n",
       "      <th>53977</th>\n",
       "      <td>Zumathy</td>\n",
       "      <td>1</td>\n",
       "    </tr>\n",
       "    <tr>\n",
       "      <th>53978</th>\n",
       "      <td>Zurika</td>\n",
       "      <td>1</td>\n",
       "    </tr>\n",
       "    <tr>\n",
       "      <th>53979</th>\n",
       "      <td>Zuruthi</td>\n",
       "      <td>1</td>\n",
       "    </tr>\n",
       "    <tr>\n",
       "      <th>53980</th>\n",
       "      <td>Zuruthika</td>\n",
       "      <td>1</td>\n",
       "    </tr>\n",
       "    <tr>\n",
       "      <th>53981</th>\n",
       "      <td>Zuvaka</td>\n",
       "      <td>1</td>\n",
       "    </tr>\n",
       "  </tbody>\n",
       "</table>\n",
       "<p>53982 rows × 2 columns</p>\n",
       "</div>"
      ],
      "text/plain": [
       "            Name  Gender\n",
       "0          Aaban       0\n",
       "1       Aabharan       0\n",
       "2         Aabhas       0\n",
       "3         Aabhat       0\n",
       "4        Aabheer       0\n",
       "...          ...     ...\n",
       "53977    Zumathy       1\n",
       "53978     Zurika       1\n",
       "53979    Zuruthi       1\n",
       "53980  Zuruthika       1\n",
       "53981     Zuvaka       1\n",
       "\n",
       "[53982 rows x 2 columns]"
      ]
     },
     "execution_count": 3,
     "metadata": {},
     "output_type": "execute_result"
    }
   ],
   "source": [
    "Data"
   ]
  },
  {
   "cell_type": "markdown",
   "metadata": {},
   "source": [
    "#### Total number of Data points we have is 53982"
   ]
  },
  {
   "cell_type": "code",
   "execution_count": 4,
   "metadata": {},
   "outputs": [
    {
     "data": {
      "text/plain": [
       "Balbir        2\n",
       "Rishita       2\n",
       "Harjit        2\n",
       "Giaan         2\n",
       "Gemine        2\n",
       "             ..\n",
       "Nilujan       1\n",
       "Anamiva       1\n",
       "Muhunthesh    1\n",
       "Karnish       1\n",
       "Shrikant      1\n",
       "Name: Name, Length: 53925, dtype: int64"
      ]
     },
     "execution_count": 4,
     "metadata": {},
     "output_type": "execute_result"
    }
   ],
   "source": [
    "Data[\"Name\"].value_counts()"
   ]
  },
  {
   "cell_type": "markdown",
   "metadata": {},
   "source": [
    "#### We can see that there are some names which are clssified both as male and also as female. 57 Such names are there."
   ]
  },
  {
   "cell_type": "code",
   "execution_count": 5,
   "metadata": {},
   "outputs": [
    {
     "data": {
      "text/plain": [
       "0    29014\n",
       "1    24968\n",
       "Name: Gender, dtype: int64"
      ]
     },
     "execution_count": 5,
     "metadata": {},
     "output_type": "execute_result"
    }
   ],
   "source": [
    "Data[\"Gender\"].value_counts()"
   ]
  },
  {
   "cell_type": "markdown",
   "metadata": {},
   "source": [
    "#### This gives us the count of the data points in each class (Male and Female). Note that 0 refers to Male and 1 refers to Female"
   ]
  },
  {
   "cell_type": "markdown",
   "metadata": {},
   "source": [
    "### Now lets get some insights from the data"
   ]
  },
  {
   "cell_type": "code",
   "execution_count": 6,
   "metadata": {},
   "outputs": [
    {
     "name": "stderr",
     "output_type": "stream",
     "text": [
      "<ipython-input-6-aa9bf71ab273>:9: SettingWithCopyWarning: \n",
      "A value is trying to be set on a copy of a slice from a DataFrame\n",
      "\n",
      "See the caveats in the documentation: https://pandas.pydata.org/pandas-docs/stable/user_guide/indexing.html#returning-a-view-versus-a-copy\n",
      "  Data['Name'][i] = Data['Name'][i].capitalize()\n",
      "<ipython-input-6-aa9bf71ab273>:13: SettingWithCopyWarning: \n",
      "A value is trying to be set on a copy of a slice from a DataFrame\n",
      "\n",
      "See the caveats in the documentation: https://pandas.pydata.org/pandas-docs/stable/user_guide/indexing.html#returning-a-view-versus-a-copy\n",
      "  Data['Name'][i] = Data['Name'][i].capitalize()\n"
     ]
    }
   ],
   "source": [
    "ini_male = {i:0 for i in string.ascii_uppercase}\n",
    "ini_female = {i:0 for i in string.ascii_uppercase}\n",
    "end_male = {i:0 for i in string.ascii_lowercase}\n",
    "end_female = {i:0 for i in string.ascii_lowercase}\n",
    "\n",
    "for i in range(len(Data)):\n",
    "    if(Data['Gender'][i] == 0):\n",
    "#         Data.iloc[i] = {'Name':Data['Name'][i].capitalize() }\n",
    "        Data['Name'][i] = Data['Name'][i].capitalize()\n",
    "        ini_male[Data['Name'][i][0]] += 1\n",
    "        end_male[Data['Name'][i][-1]] += 1\n",
    "    elif(Data['Gender'][i] == 1):\n",
    "        Data['Name'][i] = Data['Name'][i].capitalize()\n",
    "        ini_female[Data['Name'][i][0]] += 1\n",
    "        end_female[Data['Name'][i][-1]] += 1"
   ]
  },
  {
   "cell_type": "code",
   "execution_count": 7,
   "metadata": {},
   "outputs": [
    {
     "data": {
      "image/png": "[encoded data removed]",
      "text/plain": [
       "<Figure size 432x288 with 1 Axes>"
      ]
     },
     "metadata": {
      "needs_background": "light"
     },
     "output_type": "display_data"
    }
   ],
   "source": [
    "X = np.arange(len(ini_male))\n",
    "ax = plt.subplot(111)\n",
    "ax.bar(X, ini_male.values(), width=0.5, color='b', align='center')\n",
    "ax.bar(X-0.2, ini_female.values(), width=0.5, color='g', align='center')\n",
    "ax.legend(('Male','Female'))\n",
    "plt.xticks(X, ini_male.keys())\n",
    "plt.title(\"Count of Start Letters in Names\", fontsize=17)\n",
    "plt.show()"
   ]
  },
  {
   "cell_type": "code",
   "execution_count": 8,
   "metadata": {},
   "outputs": [
    {
     "data": {
      "image/png": "[encoded data removed]",
      "text/plain": [
       "<Figure size 432x288 with 1 Axes>"
      ]
     },
     "metadata": {
      "needs_background": "light"
     },
     "output_type": "display_data"
    }
   ],
   "source": [
    "X = np.arange(len(end_male))\n",
    "ax = plt.subplot(111)\n",
    "ax.bar(X, end_male.values(), width=0.5, color='b', align='center')\n",
    "ax.bar(X-0.2, end_female.values(), width=0.5, color='g', align='center')\n",
    "ax.legend(('Male','Female'))\n",
    "plt.xticks(X, end_male.keys())\n",
    "plt.title(\"Count of End Letters in Names\", fontsize=17)\n",
    "plt.show()"
   ]
  },
  {
   "cell_type": "markdown",
   "metadata": {},
   "source": [
    "### As we can see, the start and end letters play a significant role in classifying that, whether it's a male name or a female name. We expect this kind of information will be covered by our classifier also."
   ]
  },
  {
   "cell_type": "markdown",
   "metadata": {},
   "source": [
    "## Dividing the Dataset into Train and Test sets"
   ]
  },
  {
   "cell_type": "code",
   "execution_count": 9,
   "metadata": {},
   "outputs": [
    {
     "data": {
      "text/html": [
       "<div>\n",
       "<style scoped>\n",
       "    .dataframe tbody tr th:only-of-type {\n",
       "        vertical-align: middle;\n",
       "    }\n",
       "\n",
       "    .dataframe tbody tr th {\n",
       "        vertical-align: top;\n",
       "    }\n",
       "\n",
       "    .dataframe thead th {\n",
       "        text-align: right;\n",
       "    }\n",
       "</style>\n",
       "<table border=\"1\" class=\"dataframe\">\n",
       "  <thead>\n",
       "    <tr style=\"text-align: right;\">\n",
       "      <th></th>\n",
       "      <th>Name</th>\n",
       "      <th>Gender</th>\n",
       "    </tr>\n",
       "  </thead>\n",
       "  <tbody>\n",
       "    <tr>\n",
       "      <th>0</th>\n",
       "      <td>Gobigeshwar</td>\n",
       "      <td>0</td>\n",
       "    </tr>\n",
       "    <tr>\n",
       "      <th>1</th>\n",
       "      <td>Vritee</td>\n",
       "      <td>1</td>\n",
       "    </tr>\n",
       "    <tr>\n",
       "      <th>2</th>\n",
       "      <td>Hansini</td>\n",
       "      <td>1</td>\n",
       "    </tr>\n",
       "    <tr>\n",
       "      <th>3</th>\n",
       "      <td>Chitharaman</td>\n",
       "      <td>0</td>\n",
       "    </tr>\n",
       "    <tr>\n",
       "      <th>4</th>\n",
       "      <td>Hailley</td>\n",
       "      <td>1</td>\n",
       "    </tr>\n",
       "    <tr>\n",
       "      <th>...</th>\n",
       "      <td>...</td>\n",
       "      <td>...</td>\n",
       "    </tr>\n",
       "    <tr>\n",
       "      <th>53977</th>\n",
       "      <td>Netharshan</td>\n",
       "      <td>0</td>\n",
       "    </tr>\n",
       "    <tr>\n",
       "      <th>53978</th>\n",
       "      <td>Wamil</td>\n",
       "      <td>1</td>\n",
       "    </tr>\n",
       "    <tr>\n",
       "      <th>53979</th>\n",
       "      <td>Sangeetha</td>\n",
       "      <td>1</td>\n",
       "    </tr>\n",
       "    <tr>\n",
       "      <th>53980</th>\n",
       "      <td>Negan</td>\n",
       "      <td>0</td>\n",
       "    </tr>\n",
       "    <tr>\n",
       "      <th>53981</th>\n",
       "      <td>Nesamani</td>\n",
       "      <td>0</td>\n",
       "    </tr>\n",
       "  </tbody>\n",
       "</table>\n",
       "<p>53982 rows × 2 columns</p>\n",
       "</div>"
      ],
      "text/plain": [
       "              Name  Gender\n",
       "0      Gobigeshwar       0\n",
       "1           Vritee       1\n",
       "2          Hansini       1\n",
       "3      Chitharaman       0\n",
       "4          Hailley       1\n",
       "...            ...     ...\n",
       "53977   Netharshan       0\n",
       "53978        Wamil       1\n",
       "53979    Sangeetha       1\n",
       "53980        Negan       0\n",
       "53981     Nesamani       0\n",
       "\n",
       "[53982 rows x 2 columns]"
      ]
     },
     "execution_count": 9,
     "metadata": {},
     "output_type": "execute_result"
    }
   ],
   "source": [
    "newData = Data.sample(frac=1).reset_index(drop=True)\n",
    "newData"
   ]
  },
  {
   "cell_type": "markdown",
   "metadata": {},
   "source": [
    "#### Choosing 80% data as Train and remaining as Test."
   ]
  },
  {
   "cell_type": "code",
   "execution_count": 10,
   "metadata": {},
   "outputs": [
    {
     "data": {
      "text/plain": [
       "array([False,  True,  True, ...,  True,  True,  True])"
      ]
     },
     "execution_count": 10,
     "metadata": {},
     "output_type": "execute_result"
    }
   ],
   "source": [
    "msk = np.random.rand(len(newData)) < 0.8\n",
    "msk"
   ]
  },
  {
   "cell_type": "code",
   "execution_count": 11,
   "metadata": {},
   "outputs": [],
   "source": [
    "train = newData[msk]\n",
    "test = newData[~msk]"
   ]
  },
  {
   "cell_type": "markdown",
   "metadata": {},
   "source": [
    "#### Train Set"
   ]
  },
  {
   "cell_type": "code",
   "execution_count": 12,
   "metadata": {},
   "outputs": [
    {
     "data": {
      "text/html": [
       "<div>\n",
       "<style scoped>\n",
       "    .dataframe tbody tr th:only-of-type {\n",
       "        vertical-align: middle;\n",
       "    }\n",
       "\n",
       "    .dataframe tbody tr th {\n",
       "        vertical-align: top;\n",
       "    }\n",
       "\n",
       "    .dataframe thead th {\n",
       "        text-align: right;\n",
       "    }\n",
       "</style>\n",
       "<table border=\"1\" class=\"dataframe\">\n",
       "  <thead>\n",
       "    <tr style=\"text-align: right;\">\n",
       "      <th></th>\n",
       "      <th>Name</th>\n",
       "      <th>Gender</th>\n",
       "    </tr>\n",
       "  </thead>\n",
       "  <tbody>\n",
       "    <tr>\n",
       "      <th>1</th>\n",
       "      <td>Vritee</td>\n",
       "      <td>1</td>\n",
       "    </tr>\n",
       "    <tr>\n",
       "      <th>2</th>\n",
       "      <td>Hansini</td>\n",
       "      <td>1</td>\n",
       "    </tr>\n",
       "    <tr>\n",
       "      <th>4</th>\n",
       "      <td>Hailley</td>\n",
       "      <td>1</td>\n",
       "    </tr>\n",
       "    <tr>\n",
       "      <th>5</th>\n",
       "      <td>Kaanchi</td>\n",
       "      <td>1</td>\n",
       "    </tr>\n",
       "    <tr>\n",
       "      <th>7</th>\n",
       "      <td>Omkrish</td>\n",
       "      <td>0</td>\n",
       "    </tr>\n",
       "    <tr>\n",
       "      <th>...</th>\n",
       "      <td>...</td>\n",
       "      <td>...</td>\n",
       "    </tr>\n",
       "    <tr>\n",
       "      <th>53977</th>\n",
       "      <td>Netharshan</td>\n",
       "      <td>0</td>\n",
       "    </tr>\n",
       "    <tr>\n",
       "      <th>53978</th>\n",
       "      <td>Wamil</td>\n",
       "      <td>1</td>\n",
       "    </tr>\n",
       "    <tr>\n",
       "      <th>53979</th>\n",
       "      <td>Sangeetha</td>\n",
       "      <td>1</td>\n",
       "    </tr>\n",
       "    <tr>\n",
       "      <th>53980</th>\n",
       "      <td>Negan</td>\n",
       "      <td>0</td>\n",
       "    </tr>\n",
       "    <tr>\n",
       "      <th>53981</th>\n",
       "      <td>Nesamani</td>\n",
       "      <td>0</td>\n",
       "    </tr>\n",
       "  </tbody>\n",
       "</table>\n",
       "<p>43207 rows × 2 columns</p>\n",
       "</div>"
      ],
      "text/plain": [
       "             Name  Gender\n",
       "1          Vritee       1\n",
       "2         Hansini       1\n",
       "4         Hailley       1\n",
       "5         Kaanchi       1\n",
       "7         Omkrish       0\n",
       "...           ...     ...\n",
       "53977  Netharshan       0\n",
       "53978       Wamil       1\n",
       "53979   Sangeetha       1\n",
       "53980       Negan       0\n",
       "53981    Nesamani       0\n",
       "\n",
       "[43207 rows x 2 columns]"
      ]
     },
     "execution_count": 12,
     "metadata": {},
     "output_type": "execute_result"
    }
   ],
   "source": [
    "train"
   ]
  },
  {
   "cell_type": "markdown",
   "metadata": {},
   "source": [
    "#### Test Set"
   ]
  },
  {
   "cell_type": "code",
   "execution_count": 13,
   "metadata": {},
   "outputs": [
    {
     "data": {
      "text/html": [
       "<div>\n",
       "<style scoped>\n",
       "    .dataframe tbody tr th:only-of-type {\n",
       "        vertical-align: middle;\n",
       "    }\n",
       "\n",
       "    .dataframe tbody tr th {\n",
       "        vertical-align: top;\n",
       "    }\n",
       "\n",
       "    .dataframe thead th {\n",
       "        text-align: right;\n",
       "    }\n",
       "</style>\n",
       "<table border=\"1\" class=\"dataframe\">\n",
       "  <thead>\n",
       "    <tr style=\"text-align: right;\">\n",
       "      <th></th>\n",
       "      <th>Name</th>\n",
       "      <th>Gender</th>\n",
       "    </tr>\n",
       "  </thead>\n",
       "  <tbody>\n",
       "    <tr>\n",
       "      <th>0</th>\n",
       "      <td>Gobigeshwar</td>\n",
       "      <td>0</td>\n",
       "    </tr>\n",
       "    <tr>\n",
       "      <th>3</th>\n",
       "      <td>Chitharaman</td>\n",
       "      <td>0</td>\n",
       "    </tr>\n",
       "    <tr>\n",
       "      <th>6</th>\n",
       "      <td>Rajithan</td>\n",
       "      <td>0</td>\n",
       "    </tr>\n",
       "    <tr>\n",
       "      <th>8</th>\n",
       "      <td>Oviyakoomahal</td>\n",
       "      <td>1</td>\n",
       "    </tr>\n",
       "    <tr>\n",
       "      <th>10</th>\n",
       "      <td>Prabhupriya</td>\n",
       "      <td>1</td>\n",
       "    </tr>\n",
       "    <tr>\n",
       "      <th>...</th>\n",
       "      <td>...</td>\n",
       "      <td>...</td>\n",
       "    </tr>\n",
       "    <tr>\n",
       "      <th>53953</th>\n",
       "      <td>Jasanth</td>\n",
       "      <td>0</td>\n",
       "    </tr>\n",
       "    <tr>\n",
       "      <th>53961</th>\n",
       "      <td>Letchumi</td>\n",
       "      <td>1</td>\n",
       "    </tr>\n",
       "    <tr>\n",
       "      <th>53967</th>\n",
       "      <td>Asruthi</td>\n",
       "      <td>1</td>\n",
       "    </tr>\n",
       "    <tr>\n",
       "      <th>53969</th>\n",
       "      <td>Tvarika</td>\n",
       "      <td>1</td>\n",
       "    </tr>\n",
       "    <tr>\n",
       "      <th>53971</th>\n",
       "      <td>Naanak</td>\n",
       "      <td>0</td>\n",
       "    </tr>\n",
       "  </tbody>\n",
       "</table>\n",
       "<p>10775 rows × 2 columns</p>\n",
       "</div>"
      ],
      "text/plain": [
       "                Name  Gender\n",
       "0        Gobigeshwar       0\n",
       "3        Chitharaman       0\n",
       "6           Rajithan       0\n",
       "8      Oviyakoomahal       1\n",
       "10       Prabhupriya       1\n",
       "...              ...     ...\n",
       "53953        Jasanth       0\n",
       "53961       Letchumi       1\n",
       "53967        Asruthi       1\n",
       "53969        Tvarika       1\n",
       "53971         Naanak       0\n",
       "\n",
       "[10775 rows x 2 columns]"
      ]
     },
     "execution_count": 13,
     "metadata": {},
     "output_type": "execute_result"
    }
   ],
   "source": [
    "test"
   ]
  },
  {
   "cell_type": "markdown",
   "metadata": {},
   "source": [
    "#### Number of data points in each class for Test and Train dataset"
   ]
  },
  {
   "cell_type": "code",
   "execution_count": 14,
   "metadata": {},
   "outputs": [
    {
     "data": {
      "text/plain": [
       "0    23204\n",
       "1    20003\n",
       "Name: Gender, dtype: int64"
      ]
     },
     "execution_count": 14,
     "metadata": {},
     "output_type": "execute_result"
    }
   ],
   "source": [
    "train[\"Gender\"].value_counts()"
   ]
  },
  {
   "cell_type": "code",
   "execution_count": 15,
   "metadata": {},
   "outputs": [
    {
     "data": {
      "text/plain": [
       "0    5810\n",
       "1    4965\n",
       "Name: Gender, dtype: int64"
      ]
     },
     "execution_count": 15,
     "metadata": {},
     "output_type": "execute_result"
    }
   ],
   "source": [
    "test[\"Gender\"].value_counts()"
   ]
  },
  {
   "cell_type": "markdown",
   "metadata": {},
   "source": [
    "### Dividing the sets into input and target sets"
   ]
  },
  {
   "cell_type": "code",
   "execution_count": 16,
   "metadata": {},
   "outputs": [],
   "source": [
    "train_input = train[['Name']]\n",
    "train_target = train[['Gender']]\n",
    "test_input = test[['Name']]\n",
    "test_target = test[['Gender']]"
   ]
  },
  {
   "cell_type": "markdown",
   "metadata": {},
   "source": [
    "### Converting DataFrame to Numpy Arrays"
   ]
  },
  {
   "cell_type": "code",
   "execution_count": 17,
   "metadata": {},
   "outputs": [],
   "source": [
    "train_input = train_input.to_numpy().flatten()\n",
    "train_target = train_target.to_numpy().flatten()\n",
    "test_input = test_input.to_numpy().flatten()\n",
    "test_target = test_target.to_numpy().flatten()"
   ]
  },
  {
   "cell_type": "code",
   "execution_count": 18,
   "metadata": {},
   "outputs": [
    {
     "name": "stdout",
     "output_type": "stream",
     "text": [
      "['Vritee' 'Hansini' 'Hailley' ... 'Sangeetha' 'Negan' 'Nesamani']\n",
      "[1 1 1 ... 1 0 0]\n",
      "['Gobigeshwar' 'Chitharaman' 'Rajithan' ... 'Asruthi' 'Tvarika' 'Naanak']\n",
      "[0 0 0 ... 1 1 0]\n"
     ]
    }
   ],
   "source": [
    "print(train_input)\n",
    "print(train_target)\n",
    "print(test_input)\n",
    "print(test_target)"
   ]
  },
  {
   "cell_type": "markdown",
   "metadata": {},
   "source": [
    "### Converting string of input data as One hot encoded vector of size 26*26\n",
    "#### I am assuming that the maximum name length can only be of size 25 (This assumption may not always be true but it is true for the given dataset. I assumed this to simplify the computation). We can increase the size accordingly."
   ]
  },
  {
   "cell_type": "code",
   "execution_count": 19,
   "metadata": {},
   "outputs": [],
   "source": [
    "def oneHot25(data):\n",
    "    n_letters = len(string.ascii_lowercase)+len(string.ascii_uppercase)\n",
    "    vector = np.zeros((len(data), 25, n_letters))\n",
    "    for j in range(len(data)):\n",
    "        for i in range(len(data[j])):\n",
    "            if (data[j][i].isupper()):\n",
    "                vector[j][i][ord(data[j][i])-65] = 1\n",
    "            else:\n",
    "                vector[j][i][26 + ord(data[j][i])-97] = 1\n",
    "    return(vector)"
   ]
  },
  {
   "cell_type": "code",
   "execution_count": 20,
   "metadata": {},
   "outputs": [],
   "source": [
    "onehot_train_input = oneHot25(train_input)\n",
    "onehot_test_input = oneHot25(test_input)"
   ]
  },
  {
   "cell_type": "code",
   "execution_count": 21,
   "metadata": {},
   "outputs": [
    {
     "data": {
      "text/plain": [
       "(43207, 25, 52)"
      ]
     },
     "execution_count": 21,
     "metadata": {},
     "output_type": "execute_result"
    }
   ],
   "source": [
    "onehot_train_input.shape"
   ]
  },
  {
   "cell_type": "code",
   "execution_count": 22,
   "metadata": {},
   "outputs": [
    {
     "data": {
      "text/plain": [
       "(10775, 25, 52)"
      ]
     },
     "execution_count": 22,
     "metadata": {},
     "output_type": "execute_result"
    }
   ],
   "source": [
    "onehot_test_input.shape"
   ]
  },
  {
   "cell_type": "markdown",
   "metadata": {},
   "source": [
    "### Standardization of Input\n",
    "#### We will standardize our input to decrase the range and to reach the minimum point in the loss function fast"
   ]
  },
  {
   "cell_type": "code",
   "execution_count": 23,
   "metadata": {},
   "outputs": [],
   "source": [
    "sc_X = StandardScaler()\n",
    "nsamples, nx, ny = onehot_train_input.shape\n",
    "X_train = sc_X.fit_transform(onehot_train_input.reshape((nsamples,nx*ny)))\n",
    "nsamples, nx, ny = onehot_test_input.shape\n",
    "X_test = sc_X.transform(onehot_test_input.reshape((nsamples,nx*ny)))"
   ]
  },
  {
   "cell_type": "markdown",
   "metadata": {},
   "source": [
    "# Classification\n",
    "#### I am using decision trees and the classifier as I have padded the input data to a length of 25. Most of the names have a length around 6, so the remaining dimensions will work as noise for the classifier and will affect the performance of many classifiers like Neural Network-based classifiers, which is not a case in the decision tree as it will be divided into different branches based on the values in each dimension.\n",
    "#### If we want to use Neural Network-based classifiers, we have to do more preprocessing of the data, such as tokenization, to get good results."
   ]
  },
  {
   "cell_type": "markdown",
   "metadata": {},
   "source": [
    "## Gradient Boosting Classifier"
   ]
  },
  {
   "cell_type": "code",
   "execution_count": 24,
   "metadata": {},
   "outputs": [],
   "source": [
    "clf = GradientBoostingClassifier(n_estimators=200, learning_rate=0.5, max_depth=5, random_state=0)\n",
    "start_time = time.time()\n",
    "clf.fit(X_train,train_target)\n",
    "end_time = time.time()"
   ]
  },
  {
   "cell_type": "markdown",
   "metadata": {},
   "source": [
    "#### Classification Report of Gradient Boosting Classifier on Train dataset"
   ]
  },
  {
   "cell_type": "code",
   "execution_count": 25,
   "metadata": {},
   "outputs": [
    {
     "name": "stdout",
     "output_type": "stream",
     "text": [
      "Classification Report of Gradient Boosting Classifier on Train dataset\n",
      "              precision    recall  f1-score   support\n",
      "\n",
      "        Male       0.95      0.95      0.95     23204\n",
      "      Female       0.95      0.95      0.95     20003\n",
      "\n",
      "    accuracy                           0.95     43207\n",
      "   macro avg       0.95      0.95      0.95     43207\n",
      "weighted avg       0.95      0.95      0.95     43207\n",
      "\n"
     ]
    }
   ],
   "source": [
    "target_names = ['Male', 'Female']\n",
    "Y_Pred_train = clf.predict(X_train)\n",
    "print(\"Classification Report of Gradient Boosting Classifier on Train dataset\")\n",
    "print(classification_report(train_target, Y_Pred_train, target_names=target_names))"
   ]
  },
  {
   "cell_type": "code",
   "execution_count": 26,
   "metadata": {},
   "outputs": [
    {
     "name": "stdout",
     "output_type": "stream",
     "text": [
      "Confusion Matrix on test data: [[5276  534]\n",
      " [ 501 4464]]\n"
     ]
    }
   ],
   "source": [
    "Y_Pred =  clf.predict(X_test)\n",
    "cm = confusion_matrix(test_target, Y_Pred)\n",
    "print(\"Confusion Matrix on test data:\",cm)"
   ]
  },
  {
   "cell_type": "markdown",
   "metadata": {},
   "source": [
    "#### Accuracy on test data"
   ]
  },
  {
   "cell_type": "code",
   "execution_count": 27,
   "metadata": {},
   "outputs": [
    {
     "name": "stdout",
     "output_type": "stream",
     "text": [
      "Accuracy on test data with Gradient Boosting Classifier is 90.39443155452436 %\n",
      "Time taken to train Gradient Boosting Classifier is 5.846925763289134 minutes\n"
     ]
    }
   ],
   "source": [
    "print(\"Accuracy on test data with Gradient Boosting Classifier is\", (cm[0][0]+cm[1][1])*100/sum(sum(cm)),\"%\")\n",
    "print(\"Time taken to train Gradient Boosting Classifier is\",(end_time -start_time)/60,\"minutes\")"
   ]
  },
  {
   "cell_type": "markdown",
   "metadata": {},
   "source": [
    "#### Classification Report of Gradient Boosting Classifier on Test dataset"
   ]
  },
  {
   "cell_type": "code",
   "execution_count": 28,
   "metadata": {},
   "outputs": [
    {
     "name": "stdout",
     "output_type": "stream",
     "text": [
      "Classification Report of Gradient Boosting Classifier on Test dataset\n",
      "              precision    recall  f1-score   support\n",
      "\n",
      "        Male       0.91      0.91      0.91      5810\n",
      "      Female       0.89      0.90      0.90      4965\n",
      "\n",
      "    accuracy                           0.90     10775\n",
      "   macro avg       0.90      0.90      0.90     10775\n",
      "weighted avg       0.90      0.90      0.90     10775\n",
      "\n"
     ]
    }
   ],
   "source": [
    "target_names = ['Male', 'Female']\n",
    "print(\"Classification Report of Gradient Boosting Classifier on Test dataset\")\n",
    "print(classification_report(test_target, Y_Pred, target_names=target_names))"
   ]
  },
  {
   "cell_type": "markdown",
   "metadata": {},
   "source": [
    "## Random Forest Classifier"
   ]
  },
  {
   "cell_type": "code",
   "execution_count": 29,
   "metadata": {},
   "outputs": [],
   "source": [
    "classifier = RandomForestClassifier(n_estimators = 200, criterion = 'entropy', random_state = 0)\n",
    "start_time = time.time()\n",
    "classifier.fit(X_train,train_target)\n",
    "end_time = time.time()\n",
    "target_names = ['Male', 'Female']\n",
    "Y_Pred_train = classifier.predict(X_train)\n"
   ]
  },
  {
   "cell_type": "markdown",
   "metadata": {},
   "source": [
    "#### Classification Report of Random Forest Classifier on Training dataset"
   ]
  },
  {
   "cell_type": "code",
   "execution_count": 30,
   "metadata": {},
   "outputs": [
    {
     "name": "stdout",
     "output_type": "stream",
     "text": [
      "Classification Report of Random Forest Classifier on Train dataset\n",
      "              precision    recall  f1-score   support\n",
      "\n",
      "        Male       1.00      1.00      1.00     23204\n",
      "      Female       1.00      1.00      1.00     20003\n",
      "\n",
      "    accuracy                           1.00     43207\n",
      "   macro avg       1.00      1.00      1.00     43207\n",
      "weighted avg       1.00      1.00      1.00     43207\n",
      "\n"
     ]
    }
   ],
   "source": [
    "print(\"Classification Report of Random Forest Classifier on Train dataset\")\n",
    "print(classification_report(train_target, Y_Pred_train, target_names=target_names))"
   ]
  },
  {
   "cell_type": "code",
   "execution_count": 31,
   "metadata": {},
   "outputs": [],
   "source": [
    "Y_Pred = classifier.predict(X_test)"
   ]
  },
  {
   "cell_type": "markdown",
   "metadata": {},
   "source": [
    "#### Confusion Matrix on test data"
   ]
  },
  {
   "cell_type": "code",
   "execution_count": 32,
   "metadata": {},
   "outputs": [
    {
     "name": "stdout",
     "output_type": "stream",
     "text": [
      "Confusion Matrix on test data: [[5170  640]\n",
      " [ 551 4414]]\n"
     ]
    }
   ],
   "source": [
    "cm = confusion_matrix(test_target, Y_Pred)\n",
    "print(\"Confusion Matrix on test data:\",cm)"
   ]
  },
  {
   "cell_type": "markdown",
   "metadata": {},
   "source": [
    "#### Accuracy on test data"
   ]
  },
  {
   "cell_type": "code",
   "execution_count": 33,
   "metadata": {},
   "outputs": [
    {
     "name": "stdout",
     "output_type": "stream",
     "text": [
      "Accuracy on test data with Gradient Boosting Classifier is 88.94663573085847 %\n",
      "Time taken to train Random Forest Classifier is 0.9847150643666586 minutes\n"
     ]
    }
   ],
   "source": [
    "print(\"Accuracy on test data with Gradient Boosting Classifier is\", (cm[0][0]+cm[1][1])*100/sum(sum(cm)),\"%\")\n",
    "print(\"Time taken to train Random Forest Classifier is\",(end_time -start_time)/60,\"minutes\")"
   ]
  },
  {
   "cell_type": "markdown",
   "metadata": {},
   "source": [
    "#### Classification Report of Random Forest Classifier on Test data"
   ]
  },
  {
   "cell_type": "code",
   "execution_count": 34,
   "metadata": {},
   "outputs": [
    {
     "name": "stdout",
     "output_type": "stream",
     "text": [
      "Classification Report of Random Forest Classifier on Test dataset\n",
      "              precision    recall  f1-score   support\n",
      "\n",
      "        Male       0.90      0.89      0.90      5810\n",
      "      Female       0.87      0.89      0.88      4965\n",
      "\n",
      "    accuracy                           0.89     10775\n",
      "   macro avg       0.89      0.89      0.89     10775\n",
      "weighted avg       0.89      0.89      0.89     10775\n",
      "\n"
     ]
    }
   ],
   "source": [
    "target_names = ['Male', 'Female']\n",
    "print(\"Classification Report of Random Forest Classifier on Test dataset\")\n",
    "print(classification_report(test_target, Y_Pred, target_names=target_names))"
   ]
  },
  {
   "cell_type": "markdown",
   "metadata": {},
   "source": [
    "# Conclusion"
   ]
  },
  {
   "cell_type": "markdown",
   "metadata": {},
   "source": [
    "#### As we can see that the accuracy on the test dataset given by Random Forest is 88.665, which is less than the accuracy of 90.54 given by Gradient Boosting Classifier, but the time taken for Random Forest is much less than that of the Gradient Boosting algorithm. Therefore the ideal classifier for this dataset is Random Forest."
   ]
  },
  {
   "cell_type": "markdown",
   "metadata": {},
   "source": [
    "#### We can still do more hyperparameter tuning to improve the performance. I experimented with the number of weak classifiers used; this is the best performance that we can get with the same hyperparameter."
   ]
  },
  {
   "cell_type": "markdown",
   "metadata": {},
   "source": [
    "# Testing on user given name"
   ]
  },
  {
   "cell_type": "code",
   "execution_count": 35,
   "metadata": {},
   "outputs": [],
   "source": [
    "def find_gender(a):\n",
    "    target_names = ['boy', 'girl']\n",
    "    a_new = oneHot25([a])\n",
    "    nsamples,nx,ny = a_new.shape\n",
    "    input_name = sc_X.transform(a_new.reshape((nsamples,nx*ny)))\n",
    "    Y_Pred = classifier.predict(input_name)\n",
    "    return(target_names[Y_Pred[0]])"
   ]
  },
  {
   "cell_type": "code",
   "execution_count": 36,
   "metadata": {},
   "outputs": [
    {
     "name": "stdout",
     "output_type": "stream",
     "text": [
      "Enter the name: annu\n",
      "annu is a girl name\n"
     ]
    }
   ],
   "source": [
    "name = input(\"Enter the name: \")\n",
    "print('{} is a {} name'.format(name,find_gender(name)))"
   ]
  },
  {
   "cell_type": "code",
   "execution_count": 37,
   "metadata": {},
   "outputs": [
    {
     "name": "stdout",
     "output_type": "stream",
     "text": [
      "Enter the name: Anurag\n",
      "Anurag is a boy name\n"
     ]
    }
   ],
   "source": [
    "name = input(\"Enter the name: \")\n",
    "print('{} is a {} name'.format(name,find_gender(name)))"
   ]
  },
  {
   "cell_type": "code",
   "execution_count": 38,
   "metadata": {},
   "outputs": [
    {
     "name": "stdout",
     "output_type": "stream",
     "text": [
      "Enter the name: h\n",
      "h is a boy name\n"
     ]
    }
   ],
   "source": [
    "name = input(\"Enter the name: \")\n",
    "print('{} is a {} name'.format(name,find_gender(name)))"
   ]
  },
  {
   "cell_type": "code",
   "execution_count": 39,
   "metadata": {},
   "outputs": [
    {
     "name": "stdout",
     "output_type": "stream",
     "text": [
      "Enter the name: n\n",
      "n is a boy name\n"
     ]
    }
   ],
   "source": [
    "name = input(\"Enter the name: \")\n",
    "print('{} is a {} name'.format(name,find_gender(name)))"
   ]
  },
  {
   "cell_type": "code",
   "execution_count": 40,
   "metadata": {},
   "outputs": [
    {
     "name": "stdout",
     "output_type": "stream",
     "text": [
      "Enter the name: m\n",
      "m is a boy name\n"
     ]
    }
   ],
   "source": [
    "name = input(\"Enter the name: \")\n",
    "print('{} is a {} name'.format(name,find_gender(name)))"
   ]
  },
  {
   "cell_type": "code",
   "execution_count": 41,
   "metadata": {},
   "outputs": [
    {
     "name": "stdout",
     "output_type": "stream",
     "text": [
      "Enter the name: n\n",
      "n is a boy name\n"
     ]
    }
   ],
   "source": [
    "name = input(\"Enter the name: \")\n",
    "print('{} is a {} name'.format(name,find_gender(name)))"
   ]
  },
  {
   "cell_type": "markdown",
   "metadata": {},
   "source": [
    "# Observations"
   ]
  },
  {
   "cell_type": "markdown",
   "metadata": {},
   "source": [
    "#### 1) The behavior of the model is similar as we saw in the bar graph, that initials and end letters of a name play a very important role in gender prediction.\n",
    "#### 2) Names ending with 'i' and 'a' are predicted as a girl, and names ending with 'n' are predicted as a boy.\n",
    "#### 3) Also, the upper and lower case of the initial letter plays an important role as we have trained our model with the initials in the upper case. To solve this problem, we can convert the initial letter in the upper case of the user's given name."
   ]
  },
  {
   "cell_type": "code",
   "execution_count": 42,
   "metadata": {},
   "outputs": [],
   "source": [
    "pkl_filename = \"random_forest.pkl\"\n",
    "with open(pkl_filename, 'wb') as file:\n",
    "    pickle.dump(classifier, file)"
   ]
  },
  {
   "cell_type": "code",
   "execution_count": 43,
   "metadata": {},
   "outputs": [],
   "source": [
    "pkl_filename = \"scaler.pkl\"\n",
    "with open(pkl_filename, 'wb') as file:\n",
    "    pickle.dump(sc_X, file)"
   ]
  },
  {
   "cell_type": "code",
   "execution_count": null,
   "metadata": {},
   "outputs": [],
   "source": []
  }
 ],
 "metadata": {
  "kernelspec": {
   "display_name": "Python 3",
   "language": "python",
   "name": "python3"
  },
  "language_info": {
   "codemirror_mode": {
    "name": "ipython",
    "version": 3
   },
   "file_extension": ".py",
   "mimetype": "text/x-python",
   "name": "python",
   "nbconvert_exporter": "python",
   "pygments_lexer": "ipython3",
   "version": "3.8.5"
  }
 },
 "nbformat": 4,
 "nbformat_minor": 2
}
